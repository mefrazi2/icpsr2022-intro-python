{
 "cells": [
  {
   "cell_type": "markdown",
   "metadata": {},
   "source": [
    "# Day 2"
   ]
  },
  {
   "cell_type": "markdown",
   "metadata": {},
   "source": [
    "# Table of Contents <a id='doc_outline'></a>"
   ]
  },
  {
   "cell_type": "markdown",
   "metadata": {},
   "source": [
    "* [Escaping String Characters](#lecture_question)\n",
    "* [Arithmetic Operators](#arithmetic)\n",
    "* [Relational Operators](#relational)\n",
    "* [Logical Operators](#logical)"
   ]
  },
  {
   "cell_type": "markdown",
   "metadata": {},
   "source": [
    "## <span style=\"text-decoration: underline;\">Escaping String Characters</span><a id='lecture_question'></a> [(to top)](#doc_outline)\n",
    "\n",
    "What if you want to print quotation marks in your string? For example, you want the output to be the following:\n",
    "1. It's Hello World!\n",
    "2. We printed, \"Hello World!\"\n",
    "3. We printed, \"It's Hello World!\" "
   ]
  },
  {
   "cell_type": "code",
   "execution_count": 13,
   "metadata": {},
   "outputs": [
    {
     "name": "stdout",
     "output_type": "stream",
     "text": [
      "Hello World!\n",
      "\"Hello World!\"\n",
      "\"I like cats,\" she said.\n",
      "\"Hello World!\"\n"
     ]
    }
   ],
   "source": [
    "# If you want to print single quotation marks, then enclose the string in double quotation marks \n",
    "print(\"Hello World!\")\n",
    "\n",
    "\n",
    "# If you want to print double quotation marks, then enclose the string in single quotation marks \n",
    "print('\"Hello World!\"')\n",
    "\n",
    "# If you want to print both quotation marks, then we will have to escape quotation characters using \\\n",
    "# always put it before the quotes\n",
    "print(\"\\\"I like cats,\\\" she said.\")\n",
    "print(\"\\\"Hello World!\\\"\")\n"
   ]
  },
  {
   "cell_type": "markdown",
   "metadata": {},
   "source": [
    "## <span style=\"text-decoration: underline;\">Arithmetic Operators</span><a id='arithmetic'></a> [(to top)](#doc_outline)\n",
    "\n",
    "1. Addition +\n",
    "2. Subtraction -\n",
    "3. Multiplication *\n",
    "4. Division /\n",
    "5. Modulus %\n",
    "6. Exponent **\n",
    "7. Floor Division // "
   ]
  },
  {
   "cell_type": "code",
   "execution_count": 21,
   "metadata": {},
   "outputs": [
    {
     "name": "stdout",
     "output_type": "stream",
     "text": [
      "7.0\n",
      "3.0\n",
      "10.0\n",
      "2.5\n",
      "<class 'float'>\n"
     ]
    }
   ],
   "source": [
    "# Declare some variables \n",
    "x = 5\n",
    "y = 2.0\n",
    "\n",
    "type(x)\n",
    "# Performing addition and subtraction  \n",
    "print(x + y)\n",
    "print(x - y)\n",
    "\n",
    "# Performing multiplication and division \n",
    "print(x*y)\n",
    "print(x/y)\n",
    "\n",
    "# print the results, print the type \n",
    "print(type(x/y))"
   ]
  },
  {
   "cell_type": "code",
   "execution_count": 24,
   "metadata": {},
   "outputs": [
    {
     "name": "stdout",
     "output_type": "stream",
     "text": [
      "0\n",
      "1\n"
     ]
    }
   ],
   "source": [
    "# Modulus operator used to calculate the remainder of a division  \n",
    "print(10 % 2)\n",
    "print(5 % 2)\n",
    "\n",
    "# output the results "
   ]
  },
  {
   "cell_type": "code",
   "execution_count": 28,
   "metadata": {},
   "outputs": [
    {
     "name": "stdout",
     "output_type": "stream",
     "text": [
      "5\n",
      "2\n",
      "<class 'int'>\n"
     ]
    }
   ],
   "source": [
    "# Floor division used to calculate the quotient \n",
    "print(10 // 2)\n",
    "print(5 // 2)\n",
    "print(type(5 // 2))\n",
    "\n",
    "# output the results"
   ]
  },
  {
   "cell_type": "code",
   "execution_count": 31,
   "metadata": {},
   "outputs": [
    {
     "name": "stdout",
     "output_type": "stream",
     "text": [
      "100\n",
      "15.848931924611133\n"
     ]
    }
   ],
   "source": [
    "# Exponent operator for exponential multiplication \n",
    "\n",
    "print(10**2) # 10 to the power of 2\n",
    "print(10**1.2)\n",
    "\n",
    "# output the results "
   ]
  },
  {
   "cell_type": "markdown",
   "metadata": {},
   "source": [
    "### Order of operations \n",
    "\n",
    "Python follows the mathematical conventions when multiple operators are involved. \n",
    "\n",
    "The acronym PEMDAS is a useful way to remember the rules of precedence: parentheses, exponentiation, multiplication and division have the same precedence, addition and subtraction come last. \n",
    "\n",
    "Example: \n",
    "10 + 20 + 10*2 + (10-50)"
   ]
  },
  {
   "cell_type": "code",
   "execution_count": 34,
   "metadata": {},
   "outputs": [
    {
     "name": "stdout",
     "output_type": "stream",
     "text": [
      "10\n",
      "49.992\n",
      "50\n"
     ]
    }
   ],
   "source": [
    "print(10 + 20 + 10*2 + (10-50))\n",
    "print(10 + 20 + 10*2 + (10-50)/5000)\n",
    "a = 10\n",
    "print(10 + 20 + 10*2 + (10-a))"
   ]
  },
  {
   "cell_type": "markdown",
   "metadata": {},
   "source": [
    "## <span style=\"text-decoration: underline;\">Relational Operators</span><a id='arithmetic'></a> [(to top)](#doc_outline)\n",
    "\n",
    "These operators are used to compare values. The result of using these operators is always True or False (a boolean). \n",
    "\n",
    "1. == \n",
    "2. !=\t\n",
    "3. \\>\n",
    "4. <\n",
    "5. \\>= \n",
    "6. <= "
   ]
  },
  {
   "cell_type": "code",
   "execution_count": 43,
   "metadata": {},
   "outputs": [
    {
     "name": "stdout",
     "output_type": "stream",
     "text": [
      "x = 10, y = 20\n",
      "Is x equal to y i.e. x == y? False\n",
      "Is x not equal to y i.e. x != y? True\n",
      "Is x greater than y i.e. x > y? False\n",
      "Is x less than y i.e. x < y? True\n",
      "Is x greater than or equal to y i.e. x >= y? False\n",
      "Is x less than or equal to y i.e. x < = y? True\n"
     ]
    }
   ],
   "source": [
    "# Redeclare x = 10 and y = 20\n",
    "x = 10\n",
    "y = 20\n",
    "\n",
    "# Print \"x = 10, y = 20\". Use the format function \n",
    "print(f\"x = {x}, y = {y}\")\n",
    "\n",
    "# Print \"Is x equal to y i.e. x == y?\" followed by the result\n",
    "print(\"Is x equal to y i.e. x == y?\", x == y)\n",
    "\n",
    "# Print \"Is x not equal to y i.e. x != y?\" followed by the result\n",
    "print(\"Is x not equal to y i.e. x != y?\", x != y)\n",
    "\n",
    "# Print \"Is x greater than y i.e. x > y?\" followed by the result\n",
    "print(\"Is x greater than y i.e. x > y?\", x > y)\n",
    "\n",
    "# Print \"Is x less than y i.e. x < y?\" followed by the result\n",
    "print(\"Is x less than y i.e. x < y?\", x < y)\n",
    "\n",
    "# Print \"Is x greater than or equal to y i.e. x >= y?\" followed by the result\n",
    "print(\"Is x greater than or equal to y i.e. x >= y?\", x >= y)\n",
    "\n",
    "# Print \"Is x less than or equal to y i.e. x < = y?\" followed by the result\n",
    "print(\"Is x less than or equal to y i.e. x < = y?\", x <= y)"
   ]
  },
  {
   "cell_type": "markdown",
   "metadata": {},
   "source": [
    "## <span style=\"text-decoration: underline;\">Logical Operators</span><a id='logical'></a> [(to top)](#doc_outline)\n",
    "\n",
    "1. and \n",
    "2. or\n",
    "3. not "
   ]
  },
  {
   "cell_type": "code",
   "execution_count": 44,
   "metadata": {},
   "outputs": [],
   "source": [
    "x = True\n",
    "y = False\n",
    "z = False"
   ]
  },
  {
   "cell_type": "code",
   "execution_count": 46,
   "metadata": {},
   "outputs": [
    {
     "data": {
      "text/plain": [
       "False"
      ]
     },
     "execution_count": 46,
     "metadata": {},
     "output_type": "execute_result"
    }
   ],
   "source": [
    "# 'and' is used when we want multiple conditions to be true  \n",
    "x and y and x"
   ]
  },
  {
   "cell_type": "code",
   "execution_count": 49,
   "metadata": {},
   "outputs": [
    {
     "data": {
      "text/plain": [
       "True"
      ]
     },
     "execution_count": 49,
     "metadata": {},
     "output_type": "execute_result"
    }
   ],
   "source": [
    "# 'or' is used for an either-or situation, for example when we are okay with one condition being true\n",
    "x or z"
   ]
  },
  {
   "cell_type": "code",
   "execution_count": 52,
   "metadata": {},
   "outputs": [
    {
     "name": "stdout",
     "output_type": "stream",
     "text": [
      "False\n",
      "True\n"
     ]
    },
    {
     "data": {
      "text/plain": [
       "False"
      ]
     },
     "execution_count": 52,
     "metadata": {},
     "output_type": "execute_result"
    }
   ],
   "source": [
    "# 'not' is used to negate the value \n",
    "print(not x)\n",
    "print(not y)\n",
    "not (x or y) and z"
   ]
  },
  {
   "cell_type": "markdown",
   "metadata": {},
   "source": [
    "### Lecture Practice (15 minutes)\n",
    "\n",
    "1. Create a variable 'temperature' and assign it some value. Write code to convert temperature to celsius from fahrenheit. Formula: $$C*9/5 = F - 32$$ <br> $$F = 9/5 * C +32$$ \n",
    "\n",
    "2. Print the converted temperature in the following manner: \"30 degree celsius = 86.0 in Fahrenheit\"\n",
    "\n",
    "3. Change the value of the temperature variable and check the calculation. \n",
    "\n",
    "4. Create a variable `year` and assign it some value. Write code to calculate age from the year a person was born."
   ]
  },
  {
   "cell_type": "code",
   "execution_count": 65,
   "metadata": {},
   "outputs": [
    {
     "name": "stdout",
     "output_type": "stream",
     "text": [
      "30 86.0\n"
     ]
    }
   ],
   "source": [
    "C = 30\n",
    "F = (9/5) * C + 32\n",
    "print(C, F)"
   ]
  },
  {
   "cell_type": "code",
   "execution_count": 66,
   "metadata": {},
   "outputs": [
    {
     "name": "stdout",
     "output_type": "stream",
     "text": [
      "30 degree Celsius = 86.0 in Fahrenheit\n"
     ]
    }
   ],
   "source": [
    "C = 30\n",
    "F = (9/5) * C + 32\n",
    "print(f\"{C} degree Celsius = {F} in Fahrenheit\")"
   ]
  },
  {
   "cell_type": "code",
   "execution_count": 67,
   "metadata": {},
   "outputs": [
    {
     "data": {
      "text/plain": [
       "31"
      ]
     },
     "execution_count": 67,
     "metadata": {},
     "output_type": "execute_result"
    }
   ],
   "source": [
    "year = 1991\n",
    "2022 - year"
   ]
  },
  {
   "cell_type": "markdown",
   "metadata": {},
   "source": [
    "### Lecture Practice Solution Discussion (10 minutes)"
   ]
  },
  {
   "cell_type": "code",
   "execution_count": null,
   "metadata": {},
   "outputs": [],
   "source": []
  }
 ],
 "metadata": {
  "anaconda-cloud": {},
  "kernelspec": {
   "display_name": "Python 3 (ipykernel)",
   "language": "python",
   "name": "python3"
  },
  "language_info": {
   "codemirror_mode": {
    "name": "ipython",
    "version": 3
   },
   "file_extension": ".py",
   "mimetype": "text/x-python",
   "name": "python",
   "nbconvert_exporter": "python",
   "pygments_lexer": "ipython3",
   "version": "3.7.12"
  },
  "vscode": {
   "interpreter": {
    "hash": "be6df871f6691ddf38f4945d39bef842f96680ccd79b9f0ba90a927d490d882a"
   }
  }
 },
 "nbformat": 4,
 "nbformat_minor": 1
}
